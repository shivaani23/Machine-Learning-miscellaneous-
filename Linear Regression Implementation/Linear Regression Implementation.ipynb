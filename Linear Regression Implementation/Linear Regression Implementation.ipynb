{
 "cells": [
  {
   "cell_type": "code",
   "execution_count": 20,
   "metadata": {},
   "outputs": [],
   "source": [
    "import numpy as np\n",
    "import pandas as pd\n",
    "import matplotlib.pyplot as plt"
   ]
  },
  {
   "cell_type": "code",
   "execution_count": 21,
   "metadata": {},
   "outputs": [],
   "source": [
    "dfx=pd.read_csv(\"Linear_X_Train.csv\")\n",
    "dfy=pd.read_csv(\"Linear_Y_Train.csv\")\n",
    "x_train=dfx.values\n",
    "y_train=dfy.values"
   ]
  },
  {
   "cell_type": "code",
   "execution_count": 22,
   "metadata": {},
   "outputs": [
    {
     "name": "stdout",
     "output_type": "stream",
     "text": [
      "(3750, 1)\n",
      "(3750, 1)\n"
     ]
    }
   ],
   "source": [
    "print(x_train.shape)\n",
    "print(y_train.shape)"
   ]
  },
  {
   "cell_type": "code",
   "execution_count": 23,
   "metadata": {},
   "outputs": [
    {
     "name": "stdout",
     "output_type": "stream",
     "text": [
      "[[-0.28930742]\n",
      " [-0.58880963]\n",
      " [ 1.02750749]\n",
      " ...\n",
      " [-0.30516366]\n",
      " [ 1.67583291]\n",
      " [-0.49175724]]\n",
      "[[-9.11011171e-02]\n",
      " [-5.34677208e+01]\n",
      " [ 7.54570088e+01]\n",
      " ...\n",
      " [-3.49832749e+01]\n",
      " [ 1.45206092e+02]\n",
      " [-1.71244939e+01]]\n"
     ]
    }
   ],
   "source": [
    "print(x_train)\n",
    "print(y_train)"
   ]
  },
  {
   "cell_type": "code",
   "execution_count": 24,
   "metadata": {},
   "outputs": [
    {
     "data": {
      "image/png": "[encoded data removed]",
      "text/plain": [
       "<Figure size 432x288 with 1 Axes>"
      ]
     },
     "metadata": {
      "needs_background": "light"
     },
     "output_type": "display_data"
    }
   ],
   "source": [
    "x_train=(x_train-x_train.mean())/x_train.std()\n",
    "plt.scatter(x_train,y_train)\n",
    "plt.show()"
   ]
  },
  {
   "cell_type": "code",
   "execution_count": 25,
   "metadata": {},
   "outputs": [
    {
     "name": "stdout",
     "output_type": "stream",
     "text": [
      "<class 'numpy.ndarray'>\n"
     ]
    }
   ],
   "source": [
    "print(type(x_train))"
   ]
  },
  {
   "cell_type": "code",
   "execution_count": 35,
   "metadata": {},
   "outputs": [],
   "source": [
    "def hypothesis(x,theta):\n",
    "    return theta[0] + theta[1]*x\n",
    "\n",
    "def loss(x,y,theta):\n",
    "    loss=0\n",
    "    m=x_train.shape[0]\n",
    "    \n",
    "    for i in range(m):\n",
    "        hx=hypothesis(x[i],theta)\n",
    "        loss  += (hx-y[i])**2\n",
    "        \n",
    "    return loss\n",
    "\n",
    "def gradient(x,y,theta):\n",
    "    \n",
    "    grad=np.zeros((2,))\n",
    "    m=x.shape[0]\n",
    "    for i in range(m):\n",
    "        hx=hypothesis(x[i],theta)\n",
    "        grad[0] += hx-y[i]\n",
    "        grad[1] += (hx-y[i])*x[i]\n",
    "    \n",
    "    return grad\n",
    "\n",
    "def gradient_descent(x,y,learning_rate=0.0001):\n",
    "    theta=np.zeros((2,))\n",
    "    error_list =[]\n",
    "\n",
    "    for i in range(20):\n",
    "        grad=gradient(x,y,theta)\n",
    "        err=loss(x,y,theta)\n",
    "        error_list.append(err)\n",
    "        theta[0] = theta[0] - learning_rate*grad[0]\n",
    "        theta[1] = theta[1] - learning_rate*grad[1]\n",
    "    \n",
    "    return theta,error_list\n",
    "    "
   ]
  },
  {
   "cell_type": "code",
   "execution_count": 36,
   "metadata": {},
   "outputs": [
    {
     "name": "stdout",
     "output_type": "stream",
     "text": [
      "[ 0.6838124  79.89912729]\n"
     ]
    }
   ],
   "source": [
    "theta,error_list=gradient_descent(x_train,y_train)\n",
    "print(theta)\n"
   ]
  },
  {
   "cell_type": "code",
   "execution_count": 37,
   "metadata": {},
   "outputs": [
    {
     "data": {
      "image/png": "[encoded data removed]",
      "text/plain": [
       "<Figure size 432x288 with 1 Axes>"
      ]
     },
     "metadata": {
      "needs_background": "light"
     },
     "output_type": "display_data"
    }
   ],
   "source": [
    "plt.plot(error_list)\n",
    "plt.show()"
   ]
  },
  {
   "cell_type": "code",
   "execution_count": 38,
   "metadata": {},
   "outputs": [
    {
     "name": "stdout",
     "output_type": "stream",
     "text": [
      "[[-149.36230739]\n",
      " [ -68.75107927]\n",
      " [-201.47555522]\n",
      " ...\n",
      " [  10.91152559]\n",
      " [ -21.53114838]\n",
      " [ -53.68158552]]\n"
     ]
    }
   ],
   "source": [
    "dfx_test=pd.read_csv(\"Linear_X_Test.csv\")\n",
    "x_test=dfx_test.values\n",
    "m=x_test.shape[0]\n",
    "y_pred=[]\n",
    "for i in range(m):\n",
    "    hx=hypothesis(x_test[i],theta)\n",
    "    y_pred.append(hx)\n",
    "    \n",
    "y_pred=np.array(y_pred)\n",
    "print(y_pred)"
   ]
  },
  {
   "cell_type": "code",
   "execution_count": 40,
   "metadata": {},
   "outputs": [
    {
     "name": "stdout",
     "output_type": "stream",
     "text": [
      "[716083.84207721]\n"
     ]
    }
   ],
   "source": [
    "print(error_list[-1])"
   ]
  },
  {
   "cell_type": "code",
   "execution_count": 39,
   "metadata": {},
   "outputs": [],
   "source": [
    "df=pd.DataFrame(y_pred,columns=[\"y\"])\n",
    "df.to_csv(\"submission3.csv\",index=False)"
   ]
  }
 ],
 "metadata": {
  "kernelspec": {
   "display_name": "Python 3",
   "language": "python",
   "name": "python3"
  },
  "language_info": {
   "codemirror_mode": {
    "name": "ipython",
    "version": 3
   },
   "file_extension": ".py",
   "mimetype": "text/x-python",
   "name": "python",
   "nbconvert_exporter": "python",
   "pygments_lexer": "ipython3",
   "version": "3.6.6"
  }
 },
 "nbformat": 4,
 "nbformat_minor": 2
}
